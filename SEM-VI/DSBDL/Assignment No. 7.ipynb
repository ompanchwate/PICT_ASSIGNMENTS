{
  "nbformat": 4,
  "nbformat_minor": 0,
  "metadata": {
    "colab": {
      "provenance": []
    },
    "kernelspec": {
      "name": "python3",
      "display_name": "Python 3"
    },
    "language_info": {
      "name": "python"
    }
  },
  "cells": [
    {
      "cell_type": "markdown",
      "source": [
        "#**7. Text Analysis**#"
      ],
      "metadata": {
        "id": "9MQcY2akqP29"
      }
    },
    {
      "cell_type": "code",
      "execution_count": null,
      "metadata": {
        "id": "L9O5Hsh1Lhif"
      },
      "outputs": [],
      "source": [
        "import nltk    #Natural Language ToolKit\n",
        "from nltk.tokenize import word_tokenize, sent_tokenize    #For Tokenization\n",
        "from nltk import pos_tag    #For Part of Speech (PoS)\n",
        "from nltk.corpus import stopwords    #For Stop Words Removal\n",
        "from nltk.stem import PorterStemmer    #For Stemming\n",
        "from nltk.stem import WordNetLemmatizer    #For Lemmatization\n",
        "# nltk.download('all')"
      ]
    },
    {
      "cell_type": "markdown",
      "source": [
        "### **Performing Tokenization on Sample Text** ###"
      ],
      "metadata": {
        "id": "xsdr7m5kblKC"
      }
    },
    {
      "cell_type": "code",
      "source": [
        "text = '''In the quiet embrace of nature, where the sun gently kisses the earth and leaves dance in the breeze, one finds solace and inspiration.\n",
        "This document explores the harmonious interplay of elements in the natural world, weaving a tapestry of beauty and wonder. As dawn breaks, the sky transforms into a canvas of pastel hues, casting a warm glow over the waking world.\n",
        "The birds join in a symphony, their melodies announcing the beginning of a new day. The sunrise, a daily spectacle, serves as a reminder of the cyclical nature of life and the promise of a fresh start.'''"
      ],
      "metadata": {
        "id": "-X_Kgs2ILwos"
      },
      "execution_count": null,
      "outputs": []
    },
    {
      "cell_type": "code",
      "source": [
        "word_tokens = word_tokenize(text)\n",
        "print(word_tokens)"
      ],
      "metadata": {
        "colab": {
          "base_uri": "https://localhost:8080/"
        },
        "id": "LberOmqvNu5v",
        "outputId": "0db60e31-6ccf-432f-89d9-06d12e28e5b0"
      },
      "execution_count": null,
      "outputs": [
        {
          "output_type": "stream",
          "name": "stdout",
          "text": [
            "['In', 'the', 'quiet', 'embrace', 'of', 'nature', ',', 'where', 'the', 'sun', 'gently', 'kisses', 'the', 'earth', 'and', 'leaves', 'dance', 'in', 'the', 'breeze', ',', 'one', 'finds', 'solace', 'and', 'inspiration', '.', 'This', 'document', 'explores', 'the', 'harmonious', 'interplay', 'of', 'elements', 'in', 'the', 'natural', 'world', ',', 'weaving', 'a', 'tapestry', 'of', 'beauty', 'and', 'wonder', '.', 'As', 'dawn', 'breaks', ',', 'the', 'sky', 'transforms', 'into', 'a', 'canvas', 'of', 'pastel', 'hues', ',', 'casting', 'a', 'warm', 'glow', 'over', 'the', 'waking', 'world', '.', 'The', 'birds', 'join', 'in', 'a', 'symphony', ',', 'their', 'melodies', 'announcing', 'the', 'beginning', 'of', 'a', 'new', 'day', '.', 'The', 'sunrise', ',', 'a', 'daily', 'spectacle', ',', 'serves', 'as', 'a', 'reminder', 'of', 'the', 'cyclical', 'nature', 'of', 'life', 'and', 'the', 'promise', 'of', 'a', 'fresh', 'start', '.']\n"
          ]
        }
      ]
    },
    {
      "cell_type": "code",
      "source": [
        "print(sent_tokenize(text))"
      ],
      "metadata": {
        "colab": {
          "base_uri": "https://localhost:8080/"
        },
        "id": "Hk4IO2ViP3Ph",
        "outputId": "b527cf40-c82e-41d7-d35a-7e6784eb5113"
      },
      "execution_count": null,
      "outputs": [
        {
          "output_type": "stream",
          "name": "stdout",
          "text": [
            "['In the quiet embrace of nature, where the sun gently kisses the earth and leaves dance in the breeze, one finds solace and inspiration.', 'This document explores the harmonious interplay of elements in the natural world, weaving a tapestry of beauty and wonder.', 'As dawn breaks, the sky transforms into a canvas of pastel hues, casting a warm glow over the waking world.', 'The birds join in a symphony, their melodies announcing the beginning of a new day.', 'The sunrise, a daily spectacle, serves as a reminder of the cyclical nature of life and the promise of a fresh start.']\n"
          ]
        }
      ]
    },
    {
      "cell_type": "code",
      "source": [
        "sentences = sent_tokenize(text)"
      ],
      "metadata": {
        "id": "ni8nvaPacJGJ"
      },
      "execution_count": null,
      "outputs": []
    },
    {
      "cell_type": "markdown",
      "source": [
        "### **Performing Part of Speech (PoS) Tagging on the generated Tokens** ###"
      ],
      "metadata": {
        "id": "SHJYJcLFb4zp"
      }
    },
    {
      "cell_type": "code",
      "source": [
        "pos_tags = pos_tag(word_tokens)"
      ],
      "metadata": {
        "id": "0Wi72qm_QxAJ"
      },
      "execution_count": null,
      "outputs": []
    },
    {
      "cell_type": "code",
      "source": [
        "print(\"\\nPoS Tagging Result:\\n\")\n",
        "for word, pos_tag in pos_tags:\n",
        "    print(f\"{word}: {pos_tag}\")"
      ],
      "metadata": {
        "id": "6ayA5mG1RzIg"
      },
      "execution_count": null,
      "outputs": []
    },
    {
      "cell_type": "markdown",
      "source": [
        "### **Performing Stop Words Removal on generated Tokens** ###"
      ],
      "metadata": {
        "id": "tD4YgpuocPFZ"
      }
    },
    {
      "cell_type": "code",
      "source": [
        "stop_words = set(stopwords.words('english'))\n",
        "print(stopwords.words('english'))"
      ],
      "metadata": {
        "colab": {
          "base_uri": "https://localhost:8080/"
        },
        "id": "wCbFxUXSSz6l",
        "outputId": "e5e33326-b219-45c1-c527-1c221b7d21f8"
      },
      "execution_count": null,
      "outputs": [
        {
          "output_type": "stream",
          "name": "stdout",
          "text": [
            "['i', 'me', 'my', 'myself', 'we', 'our', 'ours', 'ourselves', 'you', \"you're\", \"you've\", \"you'll\", \"you'd\", 'your', 'yours', 'yourself', 'yourselves', 'he', 'him', 'his', 'himself', 'she', \"she's\", 'her', 'hers', 'herself', 'it', \"it's\", 'its', 'itself', 'they', 'them', 'their', 'theirs', 'themselves', 'what', 'which', 'who', 'whom', 'this', 'that', \"that'll\", 'these', 'those', 'am', 'is', 'are', 'was', 'were', 'be', 'been', 'being', 'have', 'has', 'had', 'having', 'do', 'does', 'did', 'doing', 'a', 'an', 'the', 'and', 'but', 'if', 'or', 'because', 'as', 'until', 'while', 'of', 'at', 'by', 'for', 'with', 'about', 'against', 'between', 'into', 'through', 'during', 'before', 'after', 'above', 'below', 'to', 'from', 'up', 'down', 'in', 'out', 'on', 'off', 'over', 'under', 'again', 'further', 'then', 'once', 'here', 'there', 'when', 'where', 'why', 'how', 'all', 'any', 'both', 'each', 'few', 'more', 'most', 'other', 'some', 'such', 'no', 'nor', 'not', 'only', 'own', 'same', 'so', 'than', 'too', 'very', 's', 't', 'can', 'will', 'just', 'don', \"don't\", 'should', \"should've\", 'now', 'd', 'll', 'm', 'o', 're', 've', 'y', 'ain', 'aren', \"aren't\", 'couldn', \"couldn't\", 'didn', \"didn't\", 'doesn', \"doesn't\", 'hadn', \"hadn't\", 'hasn', \"hasn't\", 'haven', \"haven't\", 'isn', \"isn't\", 'ma', 'mightn', \"mightn't\", 'mustn', \"mustn't\", 'needn', \"needn't\", 'shan', \"shan't\", 'shouldn', \"shouldn't\", 'wasn', \"wasn't\", 'weren', \"weren't\", 'won', \"won't\", 'wouldn', \"wouldn't\"]\n"
          ]
        }
      ]
    },
    {
      "cell_type": "code",
      "source": [
        "filtered_sent = [word for word in word_tokens if not word.lower() in stop_words]\n",
        "print(\"Original Tokenized Text:\\n\", word_tokens)\n",
        "print(\"\\n\\nText After Stop Words Removal:\\n\", filtered_sent)"
      ],
      "metadata": {
        "colab": {
          "base_uri": "https://localhost:8080/"
        },
        "id": "FMtjM-XDUf5i",
        "outputId": "671798e4-082b-4816-93d0-245da4ac87f3"
      },
      "execution_count": null,
      "outputs": [
        {
          "output_type": "stream",
          "name": "stdout",
          "text": [
            "Original Tokenized Text:\n",
            " ['In', 'the', 'quiet', 'embrace', 'of', 'nature', ',', 'where', 'the', 'sun', 'gently', 'kisses', 'the', 'earth', 'and', 'leaves', 'dance', 'in', 'the', 'breeze', ',', 'one', 'finds', 'solace', 'and', 'inspiration', '.', 'This', 'document', 'explores', 'the', 'harmonious', 'interplay', 'of', 'elements', 'in', 'the', 'natural', 'world', ',', 'weaving', 'a', 'tapestry', 'of', 'beauty', 'and', 'wonder', '.', 'As', 'dawn', 'breaks', ',', 'the', 'sky', 'transforms', 'into', 'a', 'canvas', 'of', 'pastel', 'hues', ',', 'casting', 'a', 'warm', 'glow', 'over', 'the', 'waking', 'world', '.', 'The', 'birds', 'join', 'in', 'a', 'symphony', ',', 'their', 'melodies', 'announcing', 'the', 'beginning', 'of', 'a', 'new', 'day', '.', 'The', 'sunrise', ',', 'a', 'daily', 'spectacle', ',', 'serves', 'as', 'a', 'reminder', 'of', 'the', 'cyclical', 'nature', 'of', 'life', 'and', 'the', 'promise', 'of', 'a', 'fresh', 'start', '.']\n",
            "\n",
            "\n",
            "Text After Stop Words Removal:\n",
            " ['quiet', 'embrace', 'nature', ',', 'sun', 'gently', 'kisses', 'earth', 'leaves', 'dance', 'breeze', ',', 'one', 'finds', 'solace', 'inspiration', '.', 'document', 'explores', 'harmonious', 'interplay', 'elements', 'natural', 'world', ',', 'weaving', 'tapestry', 'beauty', 'wonder', '.', 'dawn', 'breaks', ',', 'sky', 'transforms', 'canvas', 'pastel', 'hues', ',', 'casting', 'warm', 'glow', 'waking', 'world', '.', 'birds', 'join', 'symphony', ',', 'melodies', 'announcing', 'beginning', 'new', 'day', '.', 'sunrise', ',', 'daily', 'spectacle', ',', 'serves', 'reminder', 'cyclical', 'nature', 'life', 'promise', 'fresh', 'start', '.']\n"
          ]
        }
      ]
    },
    {
      "cell_type": "markdown",
      "source": [
        "### **Performing Stemming** ###"
      ],
      "metadata": {
        "id": "LnPNw2RIcas5"
      }
    },
    {
      "cell_type": "code",
      "source": [
        "ps = PorterStemmer()    #Initializing the PorterStemmer Object"
      ],
      "metadata": {
        "id": "5lpWrViNX-fv"
      },
      "execution_count": null,
      "outputs": []
    },
    {
      "cell_type": "code",
      "source": [
        "wordsList = [\"program\",\"programming\",\"programer\",\"programs\",\"programmed\"]"
      ],
      "metadata": {
        "id": "ke3RB9E4XXb_"
      },
      "execution_count": null,
      "outputs": []
    },
    {
      "cell_type": "code",
      "source": [
        "#Stemming on sample words\n",
        "\n",
        "print(\"{0:20}{1:20}\".format(\"--Word--\",\"--Stem--\"))\n",
        "for word in wordsList:\n",
        "   print (\"{0:20}{1:20}\".format(word, ps.stem(word)))"
      ],
      "metadata": {
        "colab": {
          "base_uri": "https://localhost:8080/"
        },
        "id": "oCLtXxVYXeId",
        "outputId": "6c373f4c-f27b-4db6-dc39-d2eb2d049d46"
      },
      "execution_count": null,
      "outputs": [
        {
          "output_type": "stream",
          "name": "stdout",
          "text": [
            "--Word--            --Stem--            \n",
            "program             program             \n",
            "programming         program             \n",
            "programer           program             \n",
            "programs            program             \n",
            "programmed          program             \n"
          ]
        }
      ]
    },
    {
      "cell_type": "code",
      "source": [
        "#Stemming on generated word tokens\n",
        "\n",
        "print(\"{0:20}{1:20}\".format(\"--Word--\",\"--Stem--\"))\n",
        "for word in word_tokens:\n",
        "   print (\"{0:20}{1:20}\".format(word, ps.stem(word)))"
      ],
      "metadata": {
        "id": "TulRolB8YUAN"
      },
      "execution_count": null,
      "outputs": []
    },
    {
      "cell_type": "markdown",
      "source": [
        "### **Performing Lemmatization** ###"
      ],
      "metadata": {
        "id": "LCF6GoZicorX"
      }
    },
    {
      "cell_type": "code",
      "source": [
        "wnl = WordNetLemmatizer()    #Initializing WordNetLemmatizer Object"
      ],
      "metadata": {
        "id": "lra2uCwuYjX3"
      },
      "execution_count": null,
      "outputs": []
    },
    {
      "cell_type": "code",
      "source": [
        "#Lemmatization on sample words\n",
        "\n",
        "print(\"{0:20}{1:20}\".format(\"--Word--\",\"--Lemma--\"))\n",
        "for word in wordsList:\n",
        "   print (\"{0:20}{1:20}\".format(word, wnl.lemmatize(word, pos='v')))"
      ],
      "metadata": {
        "colab": {
          "base_uri": "https://localhost:8080/"
        },
        "id": "SpY7ZfGtaPYo",
        "outputId": "1529471d-f717-4712-d381-664eddaddf9a"
      },
      "execution_count": null,
      "outputs": [
        {
          "output_type": "stream",
          "name": "stdout",
          "text": [
            "--Word--            --Lemma--           \n",
            "program             program             \n",
            "programming         program             \n",
            "programer           programer           \n",
            "programs            program             \n",
            "programmed          program             \n"
          ]
        }
      ]
    },
    {
      "cell_type": "code",
      "source": [
        "#Lemmatization on generated word tokens\n",
        "\n",
        "print(\"{0:20}{1:20}\".format(\"--Word--\",\"--Lemma--\"))\n",
        "for word in word_tokens:\n",
        "   print (\"{0:20}{1:20}\".format(word, wnl.lemmatize(word, pos='v')))"
      ],
      "metadata": {
        "id": "XJK_N1YAamTa"
      },
      "execution_count": null,
      "outputs": []
    },
    {
      "cell_type": "code",
      "source": [
        "def _create_frequency_matrix(sentences):\n",
        "    frequency_matrix = {}\n",
        "    stopWords = set(stopwords.words(\"english\"))\n",
        "    ps = PorterStemmer()\n",
        "\n",
        "    for sent in sentences:\n",
        "        freq_table = {}\n",
        "        words = word_tokenize(sent)\n",
        "        for word in words:\n",
        "            word = word.lower()\n",
        "            word = ps.stem(word)\n",
        "            if word in stopWords:\n",
        "                continue\n",
        "\n",
        "            if word in freq_table:\n",
        "                freq_table[word] += 1\n",
        "            else:\n",
        "                freq_table[word] = 1\n",
        "\n",
        "        frequency_matrix[sent[:15]] = freq_table\n",
        "\n",
        "    return frequency_matrix"
      ],
      "metadata": {
        "id": "WD6oh1nYTTOt"
      },
      "execution_count": null,
      "outputs": []
    },
    {
      "cell_type": "code",
      "source": [
        "def _create_tf_matrix(freq_matrix):\n",
        "    tf_matrix = {}\n",
        "\n",
        "    for sent, f_table in freq_matrix.items():\n",
        "        tf_table = {}\n",
        "\n",
        "        count_words_in_sentence = len(f_table)\n",
        "        for word, count in f_table.items():\n",
        "            tf_table[word] = count / count_words_in_sentence\n",
        "\n",
        "        tf_matrix[sent] = tf_table\n",
        "\n",
        "    return tf_matrix"
      ],
      "metadata": {
        "id": "4fUzpE1_TdFI"
      },
      "execution_count": null,
      "outputs": []
    },
    {
      "cell_type": "code",
      "source": [
        "freq_matrix = _create_frequency_matrix(sentences)"
      ],
      "metadata": {
        "id": "HZeAJvhYNA92"
      },
      "execution_count": null,
      "outputs": []
    },
    {
      "cell_type": "code",
      "source": [
        "tf_mat = _create_tf_matrix(freq_matrix)\n",
        "print(tf_mat)"
      ],
      "metadata": {
        "colab": {
          "base_uri": "https://localhost:8080/"
        },
        "id": "R7xCv7B4NwlL",
        "outputId": "b18a363d-ad34-4e2f-8dae-429d0ba71266"
      },
      "execution_count": null,
      "outputs": [
        {
          "output_type": "stream",
          "name": "stdout",
          "text": [
            "{'In the quiet em': {'quiet': 0.0625, 'embrac': 0.0625, 'natur': 0.0625, ',': 0.125, 'sun': 0.0625, 'gentli': 0.0625, 'kiss': 0.0625, 'earth': 0.0625, 'leav': 0.0625, 'danc': 0.0625, 'breez': 0.0625, 'one': 0.0625, 'find': 0.0625, 'solac': 0.0625, 'inspir': 0.0625, '.': 0.0625}, 'This document e': {'thi': 0.07142857142857142, 'document': 0.07142857142857142, 'explor': 0.07142857142857142, 'harmoni': 0.07142857142857142, 'interplay': 0.07142857142857142, 'element': 0.07142857142857142, 'natur': 0.07142857142857142, 'world': 0.07142857142857142, ',': 0.07142857142857142, 'weav': 0.07142857142857142, 'tapestri': 0.07142857142857142, 'beauti': 0.07142857142857142, 'wonder': 0.07142857142857142, '.': 0.07142857142857142}, 'As dawn breaks,': {'dawn': 0.07142857142857142, 'break': 0.07142857142857142, ',': 0.14285714285714285, 'sky': 0.07142857142857142, 'transform': 0.07142857142857142, 'canva': 0.07142857142857142, 'pastel': 0.07142857142857142, 'hue': 0.07142857142857142, 'cast': 0.07142857142857142, 'warm': 0.07142857142857142, 'glow': 0.07142857142857142, 'wake': 0.07142857142857142, 'world': 0.07142857142857142, '.': 0.07142857142857142}, 'The birds join ': {'bird': 0.1, 'join': 0.1, 'symphoni': 0.1, ',': 0.1, 'melodi': 0.1, 'announc': 0.1, 'begin': 0.1, 'new': 0.1, 'day': 0.1, '.': 0.1}, 'The sunrise, a ': {'sunris': 0.07692307692307693, ',': 0.15384615384615385, 'daili': 0.07692307692307693, 'spectacl': 0.07692307692307693, 'serv': 0.07692307692307693, 'remind': 0.07692307692307693, 'cyclic': 0.07692307692307693, 'natur': 0.07692307692307693, 'life': 0.07692307692307693, 'promis': 0.07692307692307693, 'fresh': 0.07692307692307693, 'start': 0.07692307692307693, '.': 0.07692307692307693}}\n"
          ]
        }
      ]
    },
    {
      "cell_type": "markdown",
      "source": [
        "\n",
        "---\n",
        "\n"
      ],
      "metadata": {
        "id": "IWUjTxGec27r"
      }
    }
  ]
}